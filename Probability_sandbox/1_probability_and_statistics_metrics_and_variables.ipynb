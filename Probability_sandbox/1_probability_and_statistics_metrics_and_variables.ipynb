{
  "cells": [
    {
      "cell_type": "code",
      "execution_count": 2,
      "metadata": {
        "id": "Z0L0SUMyzqfa"
      },
      "outputs": [],
      "source": [
        "import pandas as pd\n",
        "import numpy as np\n",
        "\n",
        "import seaborn as sns\n",
        "\n",
        "import matplotlib.pyplot as plt\n",
        "# Apply the dark_background style\n",
        "plt.style.use('dark_background')"
      ]
    },
    {
      "cell_type": "code",
      "execution_count": 3,
      "metadata": {},
      "outputs": [],
      "source": [
        "# pd.options.display.max_rows = 1000"
      ]
    },
    {
      "cell_type": "markdown",
      "metadata": {
        "id": "CiOBOgvozs-W"
      },
      "source": [
        "https://drive.google.com/file/d/1zLKWeJ_OZjxuKlP561-GopniC0_Pt_X6/view?usp=sharing"
      ]
    },
    {
      "cell_type": "code",
      "execution_count": 4,
      "metadata": {
        "colab": {
          "base_uri": "https://localhost:8080/"
        },
        "id": "WXH6QIFUzxmz",
        "outputId": "94d47e19-3d8a-4d3a-8290-a62619b882d0"
      },
      "outputs": [],
      "source": [
        "# ! gdown --id 1zLKWeJ_OZjxuKlP561-GopniC0_Pt_X6"
      ]
    },
    {
      "cell_type": "code",
      "execution_count": 3,
      "metadata": {
        "id": "VtsWKaW8zzHA"
      },
      "outputs": [],
      "source": [
        "df = pd.read_csv('age_children_income_1000.csv')"
      ]
    },
    {
      "cell_type": "code",
      "execution_count": 4,
      "metadata": {
        "colab": {
          "base_uri": "https://localhost:8080/",
          "height": 421
        },
        "id": "xLrNh3jEU8NG",
        "outputId": "151b1454-275b-4be5-d49f-584ca494a3d4"
      },
      "outputs": [
        {
          "data": {
            "text/html": [
              "<div>\n",
              "<style scoped>\n",
              "    .dataframe tbody tr th:only-of-type {\n",
              "        vertical-align: middle;\n",
              "    }\n",
              "\n",
              "    .dataframe tbody tr th {\n",
              "        vertical-align: top;\n",
              "    }\n",
              "\n",
              "    .dataframe thead th {\n",
              "        text-align: right;\n",
              "    }\n",
              "</style>\n",
              "<table border=\"1\" class=\"dataframe\">\n",
              "  <thead>\n",
              "    <tr style=\"text-align: right;\">\n",
              "      <th></th>\n",
              "      <th>age</th>\n",
              "      <th>number_of_children</th>\n",
              "      <th>income</th>\n",
              "    </tr>\n",
              "  </thead>\n",
              "  <tbody>\n",
              "    <tr>\n",
              "      <th>0</th>\n",
              "      <td>42.772420</td>\n",
              "      <td>0</td>\n",
              "      <td>34396.537188</td>\n",
              "    </tr>\n",
              "    <tr>\n",
              "      <th>1</th>\n",
              "      <td>29.561090</td>\n",
              "      <td>0</td>\n",
              "      <td>183350.052521</td>\n",
              "    </tr>\n",
              "    <tr>\n",
              "      <th>2</th>\n",
              "      <td>54.380735</td>\n",
              "      <td>0</td>\n",
              "      <td>53689.856555</td>\n",
              "    </tr>\n",
              "    <tr>\n",
              "      <th>3</th>\n",
              "      <td>42.551689</td>\n",
              "      <td>0</td>\n",
              "      <td>109080.913926</td>\n",
              "    </tr>\n",
              "    <tr>\n",
              "      <th>4</th>\n",
              "      <td>38.713080</td>\n",
              "      <td>0</td>\n",
              "      <td>153612.343419</td>\n",
              "    </tr>\n",
              "    <tr>\n",
              "      <th>...</th>\n",
              "      <td>...</td>\n",
              "      <td>...</td>\n",
              "      <td>...</td>\n",
              "    </tr>\n",
              "    <tr>\n",
              "      <th>995</th>\n",
              "      <td>36.281055</td>\n",
              "      <td>0</td>\n",
              "      <td>128647.922872</td>\n",
              "    </tr>\n",
              "    <tr>\n",
              "      <th>996</th>\n",
              "      <td>18.472716</td>\n",
              "      <td>0</td>\n",
              "      <td>67204.531673</td>\n",
              "    </tr>\n",
              "    <tr>\n",
              "      <th>997</th>\n",
              "      <td>40.547748</td>\n",
              "      <td>0</td>\n",
              "      <td>139432.757984</td>\n",
              "    </tr>\n",
              "    <tr>\n",
              "      <th>998</th>\n",
              "      <td>24.791760</td>\n",
              "      <td>1</td>\n",
              "      <td>137526.452334</td>\n",
              "    </tr>\n",
              "    <tr>\n",
              "      <th>999</th>\n",
              "      <td>46.662848</td>\n",
              "      <td>0</td>\n",
              "      <td>148449.261137</td>\n",
              "    </tr>\n",
              "  </tbody>\n",
              "</table>\n",
              "<p>1000 rows × 3 columns</p>\n",
              "</div>"
            ],
            "text/plain": [
              "           age  number_of_children         income\n",
              "0    42.772420                   0   34396.537188\n",
              "1    29.561090                   0  183350.052521\n",
              "2    54.380735                   0   53689.856555\n",
              "3    42.551689                   0  109080.913926\n",
              "4    38.713080                   0  153612.343419\n",
              "..         ...                 ...            ...\n",
              "995  36.281055                   0  128647.922872\n",
              "996  18.472716                   0   67204.531673\n",
              "997  40.547748                   0  139432.757984\n",
              "998  24.791760                   1  137526.452334\n",
              "999  46.662848                   0  148449.261137\n",
              "\n",
              "[1000 rows x 3 columns]"
            ]
          },
          "execution_count": 4,
          "metadata": {},
          "output_type": "execute_result"
        }
      ],
      "source": [
        "df"
      ]
    },
    {
      "cell_type": "code",
      "execution_count": 5,
      "metadata": {
        "colab": {
          "base_uri": "https://localhost:8080/",
          "height": 205
        },
        "id": "IYLe6hOwOj5T",
        "outputId": "c6186587-106f-466f-84a3-7d9591f0e980"
      },
      "outputs": [
        {
          "data": {
            "text/html": [
              "<div>\n",
              "<style scoped>\n",
              "    .dataframe tbody tr th:only-of-type {\n",
              "        vertical-align: middle;\n",
              "    }\n",
              "\n",
              "    .dataframe tbody tr th {\n",
              "        vertical-align: top;\n",
              "    }\n",
              "\n",
              "    .dataframe thead th {\n",
              "        text-align: right;\n",
              "    }\n",
              "</style>\n",
              "<table border=\"1\" class=\"dataframe\">\n",
              "  <thead>\n",
              "    <tr style=\"text-align: right;\">\n",
              "      <th></th>\n",
              "      <th>age</th>\n",
              "      <th>number_of_children</th>\n",
              "      <th>income</th>\n",
              "    </tr>\n",
              "  </thead>\n",
              "  <tbody>\n",
              "    <tr>\n",
              "      <th>0</th>\n",
              "      <td>42.772420</td>\n",
              "      <td>0</td>\n",
              "      <td>34396.537188</td>\n",
              "    </tr>\n",
              "    <tr>\n",
              "      <th>1</th>\n",
              "      <td>29.561090</td>\n",
              "      <td>0</td>\n",
              "      <td>183350.052521</td>\n",
              "    </tr>\n",
              "    <tr>\n",
              "      <th>2</th>\n",
              "      <td>54.380735</td>\n",
              "      <td>0</td>\n",
              "      <td>53689.856555</td>\n",
              "    </tr>\n",
              "    <tr>\n",
              "      <th>3</th>\n",
              "      <td>42.551689</td>\n",
              "      <td>0</td>\n",
              "      <td>109080.913926</td>\n",
              "    </tr>\n",
              "    <tr>\n",
              "      <th>4</th>\n",
              "      <td>38.713080</td>\n",
              "      <td>0</td>\n",
              "      <td>153612.343419</td>\n",
              "    </tr>\n",
              "  </tbody>\n",
              "</table>\n",
              "</div>"
            ],
            "text/plain": [
              "         age  number_of_children         income\n",
              "0  42.772420                   0   34396.537188\n",
              "1  29.561090                   0  183350.052521\n",
              "2  54.380735                   0   53689.856555\n",
              "3  42.551689                   0  109080.913926\n",
              "4  38.713080                   0  153612.343419"
            ]
          },
          "execution_count": 5,
          "metadata": {},
          "output_type": "execute_result"
        }
      ],
      "source": [
        "df.head()"
      ]
    },
    {
      "cell_type": "code",
      "execution_count": 6,
      "metadata": {
        "colab": {
          "base_uri": "https://localhost:8080/"
        },
        "id": "cVRh2bJDO9Gw",
        "outputId": "206b5c3e-d43c-4bdf-8e54-4100eab735c2"
      },
      "outputs": [
        {
          "data": {
            "text/plain": [
              "number_of_children\n",
              "0    658\n",
              "1    226\n",
              "2     94\n",
              "3     20\n",
              "5      1\n",
              "4      1\n",
              "Name: count, dtype: int64"
            ]
          },
          "execution_count": 6,
          "metadata": {},
          "output_type": "execute_result"
        }
      ],
      "source": [
        "df['number_of_children'].value_counts()"
      ]
    },
    {
      "cell_type": "code",
      "execution_count": 7,
      "metadata": {
        "colab": {
          "base_uri": "https://localhost:8080/"
        },
        "id": "xUtP5zFWQSS3",
        "outputId": "2a6d833a-4525-4bd6-cf0b-20f1186d34a6"
      },
      "outputs": [
        {
          "data": {
            "text/plain": [
              "number_of_children\n",
              "0    0.658\n",
              "1    0.226\n",
              "2    0.094\n",
              "3    0.020\n",
              "5    0.001\n",
              "4    0.001\n",
              "Name: proportion, dtype: float64"
            ]
          },
          "execution_count": 7,
          "metadata": {},
          "output_type": "execute_result"
        }
      ],
      "source": [
        "df['number_of_children'].value_counts(normalize=True)"
      ]
    },
    {
      "cell_type": "code",
      "execution_count": 8,
      "metadata": {
        "colab": {
          "base_uri": "https://localhost:8080/",
          "height": 283
        },
        "id": "HwTUKz9VQmix",
        "outputId": "9b32ba85-5e62-446b-edbc-0c5c5b4f46cc"
      },
      "outputs": [
        {
          "data": {
            "image/png": "[encoded data removed]",
            "text/plain": [
              "<Figure size 640x480 with 1 Axes>"
            ]
          },
          "metadata": {},
          "output_type": "display_data"
        }
      ],
      "source": [
        "df['number_of_children'].hist();"
      ]
    },
    {
      "cell_type": "code",
      "execution_count": 9,
      "metadata": {
        "colab": {
          "base_uri": "https://localhost:8080/",
          "height": 298
        },
        "id": "0Hfc8zMLRB-V",
        "outputId": "1aa9033c-8d82-47b6-d250-bb2772cdb4af"
      },
      "outputs": [
        {
          "data": {
            "image/png": "[encoded data removed]",
            "text/plain": [
              "<Figure size 640x480 with 1 Axes>"
            ]
          },
          "metadata": {},
          "output_type": "display_data"
        }
      ],
      "source": [
        "sns.histplot(df['number_of_children']);"
      ]
    },
    {
      "cell_type": "code",
      "execution_count": 10,
      "metadata": {
        "colab": {
          "base_uri": "https://localhost:8080/",
          "height": 298
        },
        "id": "gIWeUcHfRGPS",
        "outputId": "c4221da1-4de8-4640-8f71-8e36e4ab4c23"
      },
      "outputs": [
        {
          "data": {
            "image/png": "[encoded data removed]",
            "text/plain": [
              "<Figure size 640x480 with 1 Axes>"
            ]
          },
          "metadata": {},
          "output_type": "display_data"
        }
      ],
      "source": [
        "sns.histplot(df['number_of_children'],stat='probability');"
      ]
    },
    {
      "cell_type": "code",
      "execution_count": 11,
      "metadata": {
        "colab": {
          "base_uri": "https://localhost:8080/",
          "height": 283
        },
        "id": "sCox5_PhRXM9",
        "outputId": "37e5c8b5-9118-4b30-c019-4539b3201c49"
      },
      "outputs": [
        {
          "data": {
            "image/png": "[encoded data removed]",
            "text/plain": [
              "<Figure size 640x480 with 1 Axes>"
            ]
          },
          "metadata": {},
          "output_type": "display_data"
        }
      ],
      "source": [
        "df['age'].hist();"
      ]
    },
    {
      "cell_type": "code",
      "execution_count": 12,
      "metadata": {
        "colab": {
          "base_uri": "https://localhost:8080/",
          "height": 296
        },
        "id": "1tOO6OdvRjjQ",
        "outputId": "6b81bf42-8bfa-49e2-f841-1ed9f0218df6"
      },
      "outputs": [
        {
          "data": {
            "image/png": "[encoded data removed]",
            "text/plain": [
              "<Figure size 640x480 with 1 Axes>"
            ]
          },
          "metadata": {},
          "output_type": "display_data"
        }
      ],
      "source": [
        "sns.histplot(df['age']);"
      ]
    },
    {
      "cell_type": "code",
      "execution_count": 15,
      "metadata": {},
      "outputs": [],
      "source": [
        "df_copy = df.copy()"
      ]
    },
    {
      "cell_type": "code",
      "execution_count": 16,
      "metadata": {
        "id": "enL0FCzlRo0u"
      },
      "outputs": [],
      "source": [
        "df_copy['age_bin'] = pd.cut(df_copy['age'],10)"
      ]
    },
    {
      "cell_type": "code",
      "execution_count": 17,
      "metadata": {
        "colab": {
          "base_uri": "https://localhost:8080/"
        },
        "id": "9G_Gb6qxR5uh",
        "outputId": "a6e11943-af9b-4b83-b2bb-8997b1c5784a"
      },
      "outputs": [
        {
          "data": {
            "text/plain": [
              "age_bin\n",
              "(17.402, 22.107]     49\n",
              "(22.107, 26.766]    124\n",
              "(26.766, 31.425]    140\n",
              "(31.425, 36.084]    134\n",
              "(36.084, 40.743]    131\n",
              "(40.743, 45.401]    141\n",
              "(45.401, 50.06]     101\n",
              "(50.06, 54.719]     121\n",
              "(54.719, 59.378]     50\n",
              "(59.378, 64.037]      9\n",
              "Name: age, dtype: int64"
            ]
          },
          "execution_count": 17,
          "metadata": {},
          "output_type": "execute_result"
        }
      ],
      "source": [
        "df_copy.groupby('age_bin')['age'].count()"
      ]
    },
    {
      "cell_type": "code",
      "execution_count": 18,
      "metadata": {
        "colab": {
          "base_uri": "https://localhost:8080/",
          "height": 205
        },
        "id": "bPPwIKVJSANG",
        "outputId": "245be2f6-c816-49f1-cffc-600d5190983b"
      },
      "outputs": [
        {
          "data": {
            "text/html": [
              "<div>\n",
              "<style scoped>\n",
              "    .dataframe tbody tr th:only-of-type {\n",
              "        vertical-align: middle;\n",
              "    }\n",
              "\n",
              "    .dataframe tbody tr th {\n",
              "        vertical-align: top;\n",
              "    }\n",
              "\n",
              "    .dataframe thead th {\n",
              "        text-align: right;\n",
              "    }\n",
              "</style>\n",
              "<table border=\"1\" class=\"dataframe\">\n",
              "  <thead>\n",
              "    <tr style=\"text-align: right;\">\n",
              "      <th></th>\n",
              "      <th>age</th>\n",
              "      <th>number_of_children</th>\n",
              "      <th>income</th>\n",
              "      <th>age_bin</th>\n",
              "    </tr>\n",
              "  </thead>\n",
              "  <tbody>\n",
              "    <tr>\n",
              "      <th>0</th>\n",
              "      <td>42.772420</td>\n",
              "      <td>0</td>\n",
              "      <td>34396.537188</td>\n",
              "      <td>(40.743, 45.401]</td>\n",
              "    </tr>\n",
              "    <tr>\n",
              "      <th>1</th>\n",
              "      <td>29.561090</td>\n",
              "      <td>0</td>\n",
              "      <td>183350.052521</td>\n",
              "      <td>(26.766, 31.425]</td>\n",
              "    </tr>\n",
              "    <tr>\n",
              "      <th>2</th>\n",
              "      <td>54.380735</td>\n",
              "      <td>0</td>\n",
              "      <td>53689.856555</td>\n",
              "      <td>(50.06, 54.719]</td>\n",
              "    </tr>\n",
              "    <tr>\n",
              "      <th>3</th>\n",
              "      <td>42.551689</td>\n",
              "      <td>0</td>\n",
              "      <td>109080.913926</td>\n",
              "      <td>(40.743, 45.401]</td>\n",
              "    </tr>\n",
              "    <tr>\n",
              "      <th>4</th>\n",
              "      <td>38.713080</td>\n",
              "      <td>0</td>\n",
              "      <td>153612.343419</td>\n",
              "      <td>(36.084, 40.743]</td>\n",
              "    </tr>\n",
              "  </tbody>\n",
              "</table>\n",
              "</div>"
            ],
            "text/plain": [
              "         age  number_of_children         income           age_bin\n",
              "0  42.772420                   0   34396.537188  (40.743, 45.401]\n",
              "1  29.561090                   0  183350.052521  (26.766, 31.425]\n",
              "2  54.380735                   0   53689.856555   (50.06, 54.719]\n",
              "3  42.551689                   0  109080.913926  (40.743, 45.401]\n",
              "4  38.713080                   0  153612.343419  (36.084, 40.743]"
            ]
          },
          "execution_count": 18,
          "metadata": {},
          "output_type": "execute_result"
        }
      ],
      "source": [
        "df_copy.head()"
      ]
    },
    {
      "cell_type": "code",
      "execution_count": 19,
      "metadata": {
        "colab": {
          "base_uri": "https://localhost:8080/"
        },
        "id": "86ox2QswSayZ",
        "outputId": "bd6dbb07-2e37-4544-983d-abe8537c85d5"
      },
      "outputs": [
        {
          "data": {
            "text/plain": [
              "0.483"
            ]
          },
          "execution_count": 19,
          "metadata": {},
          "output_type": "execute_result"
        }
      ],
      "source": [
        "df_copy['number_of_children'].mean()"
      ]
    },
    {
      "cell_type": "code",
      "execution_count": 20,
      "metadata": {
        "colab": {
          "base_uri": "https://localhost:8080/"
        },
        "id": "ULYxFmkESfSR",
        "outputId": "f10c26ed-fc7b-458b-87fb-376830551c27"
      },
      "outputs": [
        {
          "data": {
            "text/plain": [
              "[0, 1, 2]"
            ]
          },
          "execution_count": 20,
          "metadata": {},
          "output_type": "execute_result"
        }
      ],
      "source": [
        "[0,1,2]"
      ]
    },
    {
      "cell_type": "code",
      "execution_count": 21,
      "metadata": {
        "colab": {
          "base_uri": "https://localhost:8080/"
        },
        "id": "olJlHmq9Smv7",
        "outputId": "7bc52b14-f67b-4378-99a9-175c058a7ec7"
      },
      "outputs": [
        {
          "data": {
            "text/plain": [
              "1.0"
            ]
          },
          "execution_count": 21,
          "metadata": {},
          "output_type": "execute_result"
        }
      ],
      "source": [
        "(0 + 1 + 2) / 3"
      ]
    },
    {
      "cell_type": "code",
      "execution_count": 22,
      "metadata": {
        "colab": {
          "base_uri": "https://localhost:8080/"
        },
        "id": "TSqwucxJSo-E",
        "outputId": "e7f629e5-18cb-48c2-d48e-9da7e05464b6"
      },
      "outputs": [
        {
          "data": {
            "text/plain": [
              "38.31925590719966"
            ]
          },
          "execution_count": 22,
          "metadata": {},
          "output_type": "execute_result"
        }
      ],
      "source": [
        "df['age'].mean()"
      ]
    },
    {
      "cell_type": "code",
      "execution_count": 23,
      "metadata": {
        "colab": {
          "base_uri": "https://localhost:8080/"
        },
        "id": "IeMYbIESSx86",
        "outputId": "2d512108-923c-4bbc-fc48-b1b24b36e568"
      },
      "outputs": [
        {
          "data": {
            "text/plain": [
              "age                       38.319256\n",
              "number_of_children         0.483000\n",
              "income                129415.746378\n",
              "dtype: float64"
            ]
          },
          "execution_count": 23,
          "metadata": {},
          "output_type": "execute_result"
        }
      ],
      "source": [
        "df.mean()"
      ]
    },
    {
      "cell_type": "code",
      "execution_count": 24,
      "metadata": {
        "id": "i1-SAtKsTMeW"
      },
      "outputs": [],
      "source": [
        "salary = pd.Series([30,30,40,60,50])"
      ]
    },
    {
      "cell_type": "code",
      "execution_count": 25,
      "metadata": {
        "colab": {
          "base_uri": "https://localhost:8080/"
        },
        "id": "mPBk1ilMTaEw",
        "outputId": "97c11776-2d77-4e66-ec54-e1fc7322dff4"
      },
      "outputs": [
        {
          "data": {
            "text/plain": [
              "42.0"
            ]
          },
          "execution_count": 25,
          "metadata": {},
          "output_type": "execute_result"
        }
      ],
      "source": [
        "salary.mean()"
      ]
    },
    {
      "cell_type": "code",
      "execution_count": 26,
      "metadata": {
        "id": "ebhVNQ4FTgLK"
      },
      "outputs": [],
      "source": [
        "salary = pd.Series([30,30,40,60,50,99999999999])"
      ]
    },
    {
      "cell_type": "code",
      "execution_count": 27,
      "metadata": {
        "colab": {
          "base_uri": "https://localhost:8080/"
        },
        "id": "d5lbLUF3TmTL",
        "outputId": "80da9f0e-26e5-4918-b49b-72758bffb3af"
      },
      "outputs": [
        {
          "data": {
            "text/plain": [
              "16666666701.5"
            ]
          },
          "execution_count": 27,
          "metadata": {},
          "output_type": "execute_result"
        }
      ],
      "source": [
        "salary.mean()"
      ]
    },
    {
      "cell_type": "code",
      "execution_count": 28,
      "metadata": {
        "colab": {
          "base_uri": "https://localhost:8080/",
          "height": 296
        },
        "id": "_dRJbQIUTomZ",
        "outputId": "c8328b9a-f4a6-42eb-c6bb-37ad29208d5e"
      },
      "outputs": [
        {
          "data": {
            "image/png": "[encoded data removed]",
            "text/plain": [
              "<Figure size 640x480 with 1 Axes>"
            ]
          },
          "metadata": {},
          "output_type": "display_data"
        }
      ],
      "source": [
        "salary.hist();"
      ]
    },
    {
      "cell_type": "code",
      "execution_count": 29,
      "metadata": {
        "id": "gSXVW8ynUD7z"
      },
      "outputs": [],
      "source": [
        "salary = pd.Series([30,30,40,60,50])"
      ]
    },
    {
      "cell_type": "code",
      "execution_count": 30,
      "metadata": {
        "colab": {
          "base_uri": "https://localhost:8080/"
        },
        "id": "-qG3P3LhU0o4",
        "outputId": "cab572ce-c69a-49e1-9430-3172aff20d9c"
      },
      "outputs": [
        {
          "data": {
            "text/plain": [
              "0    30\n",
              "1    30\n",
              "2    40\n",
              "4    50\n",
              "3    60\n",
              "dtype: int64"
            ]
          },
          "execution_count": 30,
          "metadata": {},
          "output_type": "execute_result"
        }
      ],
      "source": [
        "salary.sort_values()"
      ]
    },
    {
      "cell_type": "code",
      "execution_count": 31,
      "metadata": {
        "colab": {
          "base_uri": "https://localhost:8080/"
        },
        "id": "jTP5e48bUm-H",
        "outputId": "a4df2f22-74d1-4ffa-8221-a2c2b7bc1d06"
      },
      "outputs": [
        {
          "data": {
            "text/plain": [
              "40.0"
            ]
          },
          "execution_count": 31,
          "metadata": {},
          "output_type": "execute_result"
        }
      ],
      "source": [
        "salary.median()"
      ]
    },
    {
      "cell_type": "code",
      "execution_count": 32,
      "metadata": {},
      "outputs": [
        {
          "data": {
            "text/plain": [
              "42.0"
            ]
          },
          "execution_count": 32,
          "metadata": {},
          "output_type": "execute_result"
        }
      ],
      "source": [
        "salary.mean()"
      ]
    },
    {
      "cell_type": "code",
      "execution_count": 33,
      "metadata": {
        "colab": {
          "base_uri": "https://localhost:8080/"
        },
        "id": "-PLr9eQHVNJD",
        "outputId": "6295097d-5603-4413-ede6-d5e78be8d0b9"
      },
      "outputs": [
        {
          "data": {
            "text/plain": [
              "0.6"
            ]
          },
          "execution_count": 33,
          "metadata": {},
          "output_type": "execute_result"
        }
      ],
      "source": [
        "(salary <= 40).mean()"
      ]
    },
    {
      "cell_type": "code",
      "execution_count": 34,
      "metadata": {
        "id": "HJOqe83cUoYu"
      },
      "outputs": [],
      "source": [
        "salary = pd.Series([30,30,40,60,50,99999999999])"
      ]
    },
    {
      "cell_type": "code",
      "execution_count": 35,
      "metadata": {
        "colab": {
          "base_uri": "https://localhost:8080/"
        },
        "id": "qkjXqCG8UqeF",
        "outputId": "c776c0a1-c373-4f9c-e221-fec7978a6ec5"
      },
      "outputs": [
        {
          "data": {
            "text/plain": [
              "45.0"
            ]
          },
          "execution_count": 35,
          "metadata": {},
          "output_type": "execute_result"
        }
      ],
      "source": [
        "salary.median()"
      ]
    },
    {
      "cell_type": "code",
      "execution_count": 36,
      "metadata": {
        "colab": {
          "base_uri": "https://localhost:8080/"
        },
        "id": "QovU_Z6XUr2G",
        "outputId": "6f234398-9010-4ccc-81bc-80d6a626af7d"
      },
      "outputs": [
        {
          "data": {
            "text/plain": [
              "114586.57093898312"
            ]
          },
          "execution_count": 36,
          "metadata": {},
          "output_type": "execute_result"
        }
      ],
      "source": [
        "df['income'].median()"
      ]
    },
    {
      "cell_type": "code",
      "execution_count": 37,
      "metadata": {
        "colab": {
          "base_uri": "https://localhost:8080/"
        },
        "id": "kh2P9FRdVhX0",
        "outputId": "b77acce4-2860-4623-8336-8669d7c29050"
      },
      "outputs": [
        {
          "data": {
            "text/plain": [
              "0.5"
            ]
          },
          "execution_count": 37,
          "metadata": {},
          "output_type": "execute_result"
        }
      ],
      "source": [
        "(df['income'] < df['income'].median()).mean()"
      ]
    },
    {
      "cell_type": "code",
      "execution_count": 38,
      "metadata": {
        "colab": {
          "base_uri": "https://localhost:8080/",
          "height": 205
        },
        "id": "_a5yX9dmVms3",
        "outputId": "3219c1d2-9ce6-4ac9-d106-0e412fc20b29"
      },
      "outputs": [
        {
          "data": {
            "text/html": [
              "<div>\n",
              "<style scoped>\n",
              "    .dataframe tbody tr th:only-of-type {\n",
              "        vertical-align: middle;\n",
              "    }\n",
              "\n",
              "    .dataframe tbody tr th {\n",
              "        vertical-align: top;\n",
              "    }\n",
              "\n",
              "    .dataframe thead th {\n",
              "        text-align: right;\n",
              "    }\n",
              "</style>\n",
              "<table border=\"1\" class=\"dataframe\">\n",
              "  <thead>\n",
              "    <tr style=\"text-align: right;\">\n",
              "      <th></th>\n",
              "      <th>age</th>\n",
              "      <th>number_of_children</th>\n",
              "      <th>income</th>\n",
              "    </tr>\n",
              "  </thead>\n",
              "  <tbody>\n",
              "    <tr>\n",
              "      <th>0</th>\n",
              "      <td>42.772420</td>\n",
              "      <td>0</td>\n",
              "      <td>34396.537188</td>\n",
              "    </tr>\n",
              "    <tr>\n",
              "      <th>1</th>\n",
              "      <td>29.561090</td>\n",
              "      <td>0</td>\n",
              "      <td>183350.052521</td>\n",
              "    </tr>\n",
              "    <tr>\n",
              "      <th>2</th>\n",
              "      <td>54.380735</td>\n",
              "      <td>0</td>\n",
              "      <td>53689.856555</td>\n",
              "    </tr>\n",
              "    <tr>\n",
              "      <th>3</th>\n",
              "      <td>42.551689</td>\n",
              "      <td>0</td>\n",
              "      <td>109080.913926</td>\n",
              "    </tr>\n",
              "    <tr>\n",
              "      <th>4</th>\n",
              "      <td>38.713080</td>\n",
              "      <td>0</td>\n",
              "      <td>153612.343419</td>\n",
              "    </tr>\n",
              "  </tbody>\n",
              "</table>\n",
              "</div>"
            ],
            "text/plain": [
              "         age  number_of_children         income\n",
              "0  42.772420                   0   34396.537188\n",
              "1  29.561090                   0  183350.052521\n",
              "2  54.380735                   0   53689.856555\n",
              "3  42.551689                   0  109080.913926\n",
              "4  38.713080                   0  153612.343419"
            ]
          },
          "execution_count": 38,
          "metadata": {},
          "output_type": "execute_result"
        }
      ],
      "source": [
        "df.head()"
      ]
    },
    {
      "cell_type": "code",
      "execution_count": 39,
      "metadata": {
        "colab": {
          "base_uri": "https://localhost:8080/"
        },
        "id": "qoMBtqBSVyjI",
        "outputId": "2a250190-70ec-443f-90eb-08a2664c0a96"
      },
      "outputs": [
        {
          "data": {
            "text/plain": [
              "number_of_children\n",
              "0    658\n",
              "1    226\n",
              "2     94\n",
              "3     20\n",
              "5      1\n",
              "4      1\n",
              "Name: count, dtype: int64"
            ]
          },
          "execution_count": 39,
          "metadata": {},
          "output_type": "execute_result"
        }
      ],
      "source": [
        "df['number_of_children'].value_counts()"
      ]
    },
    {
      "cell_type": "code",
      "execution_count": 40,
      "metadata": {
        "colab": {
          "base_uri": "https://localhost:8080/"
        },
        "id": "tM-Mt4geV7y6",
        "outputId": "2b1bc079-b1a0-4278-bd0f-3de7f048bfb7"
      },
      "outputs": [
        {
          "data": {
            "text/plain": [
              "0    0\n",
              "Name: number_of_children, dtype: int64"
            ]
          },
          "execution_count": 40,
          "metadata": {},
          "output_type": "execute_result"
        }
      ],
      "source": [
        "df['number_of_children'].mode()"
      ]
    },
    {
      "cell_type": "code",
      "execution_count": 41,
      "metadata": {
        "colab": {
          "base_uri": "https://localhost:8080/"
        },
        "id": "FiYsUHd6WCbC",
        "outputId": "3c944ad7-50dd-4f00-d3f8-76bb4554cf21"
      },
      "outputs": [
        {
          "data": {
            "text/plain": [
              "mean      129415.746378\n",
              "median    114586.570939\n",
              "Name: income, dtype: float64"
            ]
          },
          "execution_count": 41,
          "metadata": {},
          "output_type": "execute_result"
        }
      ],
      "source": [
        "df['income'].agg(['mean','median'])"
      ]
    },
    {
      "cell_type": "code",
      "execution_count": 42,
      "metadata": {
        "colab": {
          "base_uri": "https://localhost:8080/",
          "height": 283
        },
        "id": "VzJUEUYvWi66",
        "outputId": "daaebf06-4417-45f0-a574-013a408b38b2"
      },
      "outputs": [
        {
          "data": {
            "image/png": "[encoded data removed]",
            "text/plain": [
              "<Figure size 640x480 with 1 Axes>"
            ]
          },
          "metadata": {},
          "output_type": "display_data"
        }
      ],
      "source": [
        "df['income'].hist();"
      ]
    },
    {
      "cell_type": "code",
      "execution_count": 43,
      "metadata": {
        "colab": {
          "base_uri": "https://localhost:8080/"
        },
        "id": "opD1MgBHXfdQ",
        "outputId": "8739f499-b0fe-4aac-cac0-4ccee8d961fe"
      },
      "outputs": [
        {
          "data": {
            "text/plain": [
              "2"
            ]
          },
          "execution_count": 43,
          "metadata": {},
          "output_type": "execute_result"
        }
      ],
      "source": [
        "True + True"
      ]
    },
    {
      "cell_type": "code",
      "execution_count": 44,
      "metadata": {
        "colab": {
          "base_uri": "https://localhost:8080/"
        },
        "id": "x2JK0cEUXkx1",
        "outputId": "84207d6a-1acc-4191-ee57-7162d1070dfa"
      },
      "outputs": [
        {
          "data": {
            "text/plain": [
              "0"
            ]
          },
          "execution_count": 44,
          "metadata": {},
          "output_type": "execute_result"
        }
      ],
      "source": [
        "False + False"
      ]
    },
    {
      "cell_type": "code",
      "execution_count": 45,
      "metadata": {
        "colab": {
          "base_uri": "https://localhost:8080/"
        },
        "id": "_lz_UZB2Xm7v",
        "outputId": "2859fdb3-8587-470c-e844-a425c09cbd97"
      },
      "outputs": [
        {
          "data": {
            "text/plain": [
              "0.3333333333333333"
            ]
          },
          "execution_count": 45,
          "metadata": {},
          "output_type": "execute_result"
        }
      ],
      "source": [
        "(True + False + False) / 3"
      ]
    },
    {
      "cell_type": "code",
      "execution_count": 46,
      "metadata": {
        "colab": {
          "base_uri": "https://localhost:8080/"
        },
        "id": "AYN4JQcuWqHR",
        "outputId": "af2dbe17-f718-40aa-e5bf-8fc38b6e80d6"
      },
      "outputs": [
        {
          "data": {
            "text/plain": [
              "0.5"
            ]
          },
          "execution_count": 46,
          "metadata": {},
          "output_type": "execute_result"
        }
      ],
      "source": [
        "(df['income'] < 114586.570939).mean()"
      ]
    },
    {
      "cell_type": "code",
      "execution_count": 47,
      "metadata": {
        "colab": {
          "base_uri": "https://localhost:8080/"
        },
        "id": "Z5W7qU4WXyXj",
        "outputId": "1998ea7b-8751-41d1-eb5d-8e51f7b72e6c"
      },
      "outputs": [
        {
          "data": {
            "text/plain": [
              "0.397"
            ]
          },
          "execution_count": 47,
          "metadata": {},
          "output_type": "execute_result"
        }
      ],
      "source": [
        "(df['income'] < 100000).mean()"
      ]
    },
    {
      "cell_type": "code",
      "execution_count": 48,
      "metadata": {
        "colab": {
          "base_uri": "https://localhost:8080/"
        },
        "id": "qpIThjs9X4lU",
        "outputId": "b0f0ba2c-9a3c-4e87-a654-1a26f66432aa"
      },
      "outputs": [
        {
          "data": {
            "text/plain": [
              "100512.68685217279"
            ]
          },
          "execution_count": 48,
          "metadata": {},
          "output_type": "execute_result"
        }
      ],
      "source": [
        "df['income'].quantile(0.4)"
      ]
    },
    {
      "cell_type": "code",
      "execution_count": 49,
      "metadata": {
        "colab": {
          "base_uri": "https://localhost:8080/"
        },
        "id": "Oj5WItBUYB98",
        "outputId": "ada7bf79-8157-4970-84cc-834d814e570c"
      },
      "outputs": [
        {
          "data": {
            "text/plain": [
              "0.4"
            ]
          },
          "execution_count": 49,
          "metadata": {},
          "output_type": "execute_result"
        }
      ],
      "source": [
        "(df['income'] < df['income'].quantile(0.4)).mean()"
      ]
    },
    {
      "cell_type": "code",
      "execution_count": 50,
      "metadata": {
        "colab": {
          "base_uri": "https://localhost:8080/"
        },
        "id": "I67s3buPYFBQ",
        "outputId": "4712d6ad-d3cc-41a8-ffcc-da4282caf0a6"
      },
      "outputs": [
        {
          "data": {
            "text/plain": [
              "58377.17440989983"
            ]
          },
          "execution_count": 50,
          "metadata": {},
          "output_type": "execute_result"
        }
      ],
      "source": [
        "df['income'].quantile(0.1)"
      ]
    },
    {
      "cell_type": "code",
      "execution_count": 51,
      "metadata": {
        "colab": {
          "base_uri": "https://localhost:8080/"
        },
        "id": "2Os-Y3haYWjF",
        "outputId": "756910de-2d16-4b2b-92a4-0b47439f05b6"
      },
      "outputs": [
        {
          "data": {
            "text/plain": [
              "86626.68913102671"
            ]
          },
          "execution_count": 51,
          "metadata": {},
          "output_type": "execute_result"
        }
      ],
      "source": [
        "df['income'].quantile(0.3)"
      ]
    },
    {
      "cell_type": "code",
      "execution_count": 52,
      "metadata": {
        "colab": {
          "base_uri": "https://localhost:8080/"
        },
        "id": "lgvvPwYQYZ5j",
        "outputId": "61f7e1bb-8ae5-40b2-afeb-7cf5a7ccdab5"
      },
      "outputs": [
        {
          "data": {
            "text/plain": [
              "79594.0403996465"
            ]
          },
          "execution_count": 52,
          "metadata": {},
          "output_type": "execute_result"
        }
      ],
      "source": [
        "df['income'].quantile(0.25)"
      ]
    },
    {
      "cell_type": "code",
      "execution_count": 53,
      "metadata": {
        "colab": {
          "base_uri": "https://localhost:8080/"
        },
        "id": "JhMQg4EBYgCj",
        "outputId": "1ac8ef09-a536-4589-82bf-0382ea976214"
      },
      "outputs": [
        {
          "data": {
            "text/plain": [
              "114586.57093898312"
            ]
          },
          "execution_count": 53,
          "metadata": {},
          "output_type": "execute_result"
        }
      ],
      "source": [
        "df['income'].quantile(0.5)"
      ]
    },
    {
      "cell_type": "code",
      "execution_count": 54,
      "metadata": {
        "colab": {
          "base_uri": "https://localhost:8080/"
        },
        "id": "rfhcSsCfYjZZ",
        "outputId": "60069c90-ff14-4b31-9641-e47778a11803"
      },
      "outputs": [
        {
          "data": {
            "text/plain": [
              "162888.8910808624"
            ]
          },
          "execution_count": 54,
          "metadata": {},
          "output_type": "execute_result"
        }
      ],
      "source": [
        "df['income'].quantile(0.75)"
      ]
    },
    {
      "cell_type": "code",
      "execution_count": 55,
      "metadata": {
        "colab": {
          "base_uri": "https://localhost:8080/",
          "height": 205
        },
        "id": "LODaZHl7YmM9",
        "outputId": "d8f233e3-7653-4b9e-ad91-32860c8e9a7f"
      },
      "outputs": [
        {
          "data": {
            "text/html": [
              "<div>\n",
              "<style scoped>\n",
              "    .dataframe tbody tr th:only-of-type {\n",
              "        vertical-align: middle;\n",
              "    }\n",
              "\n",
              "    .dataframe tbody tr th {\n",
              "        vertical-align: top;\n",
              "    }\n",
              "\n",
              "    .dataframe thead th {\n",
              "        text-align: right;\n",
              "    }\n",
              "</style>\n",
              "<table border=\"1\" class=\"dataframe\">\n",
              "  <thead>\n",
              "    <tr style=\"text-align: right;\">\n",
              "      <th></th>\n",
              "      <th>age</th>\n",
              "      <th>number_of_children</th>\n",
              "      <th>income</th>\n",
              "    </tr>\n",
              "  </thead>\n",
              "  <tbody>\n",
              "    <tr>\n",
              "      <th>0</th>\n",
              "      <td>42.772420</td>\n",
              "      <td>0</td>\n",
              "      <td>34396.537188</td>\n",
              "    </tr>\n",
              "    <tr>\n",
              "      <th>1</th>\n",
              "      <td>29.561090</td>\n",
              "      <td>0</td>\n",
              "      <td>183350.052521</td>\n",
              "    </tr>\n",
              "    <tr>\n",
              "      <th>2</th>\n",
              "      <td>54.380735</td>\n",
              "      <td>0</td>\n",
              "      <td>53689.856555</td>\n",
              "    </tr>\n",
              "    <tr>\n",
              "      <th>3</th>\n",
              "      <td>42.551689</td>\n",
              "      <td>0</td>\n",
              "      <td>109080.913926</td>\n",
              "    </tr>\n",
              "    <tr>\n",
              "      <th>4</th>\n",
              "      <td>38.713080</td>\n",
              "      <td>0</td>\n",
              "      <td>153612.343419</td>\n",
              "    </tr>\n",
              "  </tbody>\n",
              "</table>\n",
              "</div>"
            ],
            "text/plain": [
              "         age  number_of_children         income\n",
              "0  42.772420                   0   34396.537188\n",
              "1  29.561090                   0  183350.052521\n",
              "2  54.380735                   0   53689.856555\n",
              "3  42.551689                   0  109080.913926\n",
              "4  38.713080                   0  153612.343419"
            ]
          },
          "execution_count": 55,
          "metadata": {},
          "output_type": "execute_result"
        }
      ],
      "source": [
        "df.head()"
      ]
    },
    {
      "cell_type": "code",
      "execution_count": 56,
      "metadata": {
        "colab": {
          "base_uri": "https://localhost:8080/"
        },
        "id": "1_kQIOuzY16f",
        "outputId": "d2a6be63-be9c-4565-f0b1-af8faf83fcc8"
      },
      "outputs": [
        {
          "data": {
            "text/plain": [
              "0    0.639\n",
              "1    0.257\n",
              "2    0.936\n",
              "3    0.634\n",
              "4    0.521\n",
              "Name: age, dtype: float64"
            ]
          },
          "execution_count": 56,
          "metadata": {},
          "output_type": "execute_result"
        }
      ],
      "source": [
        "df['age'].rank(pct=True).head()"
      ]
    },
    {
      "cell_type": "code",
      "execution_count": 57,
      "metadata": {},
      "outputs": [
        {
          "data": {
            "text/plain": [
              "0    639.0\n",
              "1    257.0\n",
              "2    936.0\n",
              "3    634.0\n",
              "4    521.0\n",
              "Name: age, dtype: float64"
            ]
          },
          "execution_count": 57,
          "metadata": {},
          "output_type": "execute_result"
        }
      ],
      "source": [
        "df['age'].rank(pct=False).head()"
      ]
    },
    {
      "cell_type": "code",
      "execution_count": 58,
      "metadata": {
        "id": "phdWxL3dZA4C"
      },
      "outputs": [],
      "source": [
        "df['pct'] = df['age'].rank(pct=True)"
      ]
    },
    {
      "cell_type": "code",
      "execution_count": 59,
      "metadata": {
        "colab": {
          "base_uri": "https://localhost:8080/",
          "height": 205
        },
        "id": "2dHtRT90ZOhQ",
        "outputId": "ed1c95a9-163b-4b54-826d-51d11391b843"
      },
      "outputs": [
        {
          "data": {
            "text/html": [
              "<div>\n",
              "<style scoped>\n",
              "    .dataframe tbody tr th:only-of-type {\n",
              "        vertical-align: middle;\n",
              "    }\n",
              "\n",
              "    .dataframe tbody tr th {\n",
              "        vertical-align: top;\n",
              "    }\n",
              "\n",
              "    .dataframe thead th {\n",
              "        text-align: right;\n",
              "    }\n",
              "</style>\n",
              "<table border=\"1\" class=\"dataframe\">\n",
              "  <thead>\n",
              "    <tr style=\"text-align: right;\">\n",
              "      <th></th>\n",
              "      <th>age</th>\n",
              "      <th>number_of_children</th>\n",
              "      <th>income</th>\n",
              "      <th>pct</th>\n",
              "    </tr>\n",
              "  </thead>\n",
              "  <tbody>\n",
              "    <tr>\n",
              "      <th>0</th>\n",
              "      <td>42.772420</td>\n",
              "      <td>0</td>\n",
              "      <td>34396.537188</td>\n",
              "      <td>0.639</td>\n",
              "    </tr>\n",
              "    <tr>\n",
              "      <th>1</th>\n",
              "      <td>29.561090</td>\n",
              "      <td>0</td>\n",
              "      <td>183350.052521</td>\n",
              "      <td>0.257</td>\n",
              "    </tr>\n",
              "    <tr>\n",
              "      <th>2</th>\n",
              "      <td>54.380735</td>\n",
              "      <td>0</td>\n",
              "      <td>53689.856555</td>\n",
              "      <td>0.936</td>\n",
              "    </tr>\n",
              "    <tr>\n",
              "      <th>3</th>\n",
              "      <td>42.551689</td>\n",
              "      <td>0</td>\n",
              "      <td>109080.913926</td>\n",
              "      <td>0.634</td>\n",
              "    </tr>\n",
              "    <tr>\n",
              "      <th>4</th>\n",
              "      <td>38.713080</td>\n",
              "      <td>0</td>\n",
              "      <td>153612.343419</td>\n",
              "      <td>0.521</td>\n",
              "    </tr>\n",
              "  </tbody>\n",
              "</table>\n",
              "</div>"
            ],
            "text/plain": [
              "         age  number_of_children         income    pct\n",
              "0  42.772420                   0   34396.537188  0.639\n",
              "1  29.561090                   0  183350.052521  0.257\n",
              "2  54.380735                   0   53689.856555  0.936\n",
              "3  42.551689                   0  109080.913926  0.634\n",
              "4  38.713080                   0  153612.343419  0.521"
            ]
          },
          "execution_count": 59,
          "metadata": {},
          "output_type": "execute_result"
        }
      ],
      "source": [
        "df.head()"
      ]
    },
    {
      "cell_type": "code",
      "execution_count": 60,
      "metadata": {
        "colab": {
          "base_uri": "https://localhost:8080/"
        },
        "id": "peDat5w7ZPZV",
        "outputId": "2fa3d3da-5f4c-44b1-9e63-c09b33067123"
      },
      "outputs": [
        {
          "data": {
            "text/plain": [
              "0.638"
            ]
          },
          "execution_count": 60,
          "metadata": {},
          "output_type": "execute_result"
        }
      ],
      "source": [
        "(df['age'] < 42.772420).mean()"
      ]
    },
    {
      "cell_type": "code",
      "execution_count": 61,
      "metadata": {
        "colab": {
          "base_uri": "https://localhost:8080/",
          "height": 283
        },
        "id": "CDonvPTqZWj_",
        "outputId": "dbd71ef8-2485-4e32-a17c-4bb17764b0f9"
      },
      "outputs": [
        {
          "data": {
            "image/png": "[encoded data removed]",
            "text/plain": [
              "<Figure size 640x480 with 1 Axes>"
            ]
          },
          "metadata": {},
          "output_type": "display_data"
        }
      ],
      "source": [
        "df.boxplot('age');"
      ]
    },
    {
      "cell_type": "code",
      "execution_count": 62,
      "metadata": {
        "colab": {
          "base_uri": "https://localhost:8080/",
          "height": 284
        },
        "id": "HOtUsmEHZt55",
        "outputId": "8a95f39f-88f2-4abb-cf87-2887be0d4fa8"
      },
      "outputs": [
        {
          "data": {
            "image/png": "[encoded data removed]",
            "text/plain": [
              "<Figure size 640x480 with 1 Axes>"
            ]
          },
          "metadata": {},
          "output_type": "display_data"
        }
      ],
      "source": [
        "df.boxplot('income');"
      ]
    },
    {
      "cell_type": "code",
      "execution_count": 65,
      "metadata": {
        "colab": {
          "base_uri": "https://localhost:8080/",
          "height": 352
        },
        "id": "WimbCU02aU7m",
        "outputId": "f3715b40-2752-422b-93f5-d386224880f7"
      },
      "outputs": [
        {
          "data": {
            "image/png": "[encoded data removed]",
            "text/plain": [
              "<Figure size 640x480 with 1 Axes>"
            ]
          },
          "metadata": {},
          "output_type": "display_data"
        }
      ],
      "source": [
        "sns.boxplot(df['income'], orient=\"h\");"
      ]
    },
    {
      "cell_type": "code",
      "execution_count": null,
      "metadata": {
        "colab": {
          "base_uri": "https://localhost:8080/",
          "height": 283
        },
        "id": "5zZfatftajKC",
        "outputId": "31098b20-13b5-4274-eec5-283384f65b69"
      },
      "outputs": [
        {
          "data": {
            "image/png": "[encoded data removed]",
            "text/plain": [
              "<Figure size 640x480 with 1 Axes>"
            ]
          },
          "metadata": {},
          "output_type": "display_data"
        }
      ],
      "source": [
        "df['income'].hist();"
      ]
    },
    {
      "cell_type": "code",
      "execution_count": null,
      "metadata": {
        "colab": {
          "base_uri": "https://localhost:8080/"
        },
        "id": "LGN7w4OLalXm",
        "outputId": "c2d201fd-299a-4360-92c4-9fd7ed014eec"
      },
      "outputs": [
        {
          "data": {
            "text/plain": [
              "count      1000.000000\n",
              "mean     129415.746378\n",
              "std       71251.620971\n",
              "min       21943.855414\n",
              "25%       79594.040400\n",
              "50%      114586.570939\n",
              "75%      162888.891081\n",
              "max      678006.351857\n",
              "Name: income, dtype: float64"
            ]
          },
          "execution_count": 100,
          "metadata": {},
          "output_type": "execute_result"
        }
      ],
      "source": [
        "df['income'].describe()"
      ]
    },
    {
      "cell_type": "code",
      "execution_count": null,
      "metadata": {
        "id": "cCDKk57cbj2B"
      },
      "outputs": [],
      "source": [
        "# pd.options.display.max_rows = 100"
      ]
    },
    {
      "cell_type": "code",
      "execution_count": null,
      "metadata": {
        "colab": {
          "base_uri": "https://localhost:8080/"
        },
        "id": "nPCbGBRcbIqF",
        "outputId": "6e2da351-26d1-4b2f-abbf-87a2fa1ee7b1"
      },
      "outputs": [
        {
          "data": {
            "text/plain": [
              "129415.74637843431"
            ]
          },
          "execution_count": 101,
          "metadata": {},
          "output_type": "execute_result"
        }
      ],
      "source": [
        "df['income'].mean()"
      ]
    },
    {
      "cell_type": "code",
      "execution_count": null,
      "metadata": {
        "colab": {
          "base_uri": "https://localhost:8080/"
        },
        "id": "dDkh8MY9b1t-",
        "outputId": "81f80d08-a74c-47b6-9e3f-e4e37ee38fe1"
      },
      "outputs": [
        {
          "data": {
            "text/plain": [
              "0       34396.537188\n",
              "1      183350.052521\n",
              "2       53689.856555\n",
              "3      109080.913926\n",
              "4      153612.343419\n",
              "           ...      \n",
              "995    128647.922872\n",
              "996     67204.531673\n",
              "997    139432.757984\n",
              "998    137526.452334\n",
              "999    148449.261137\n",
              "Name: income, Length: 1000, dtype: float64"
            ]
          },
          "execution_count": 102,
          "metadata": {},
          "output_type": "execute_result"
        }
      ],
      "source": [
        "df['income']"
      ]
    },
    {
      "cell_type": "code",
      "execution_count": null,
      "metadata": {
        "colab": {
          "base_uri": "https://localhost:8080/",
          "height": 283
        },
        "id": "zZHQwJEqbv1c",
        "outputId": "bd9aeec3-d588-46cc-9067-188f15c75997"
      },
      "outputs": [
        {
          "data": {
            "image/png": "[encoded data removed]",
            "text/plain": [
              "<Figure size 640x480 with 1 Axes>"
            ]
          },
          "metadata": {},
          "output_type": "display_data"
        }
      ],
      "source": [
        "(df['income'] - df['income'].mean()).hist();"
      ]
    },
    {
      "cell_type": "code",
      "execution_count": null,
      "metadata": {
        "id": "iKxAqX7ycO-r"
      },
      "outputs": [],
      "source": [
        "pd.set_option('display.float_format', lambda x: '%.3f' % x)"
      ]
    },
    {
      "cell_type": "code",
      "execution_count": null,
      "metadata": {
        "colab": {
          "base_uri": "https://localhost:8080/"
        },
        "id": "TtsIyNOtbzIr",
        "outputId": "ef4263de-2ba9-442c-aa30-a9393bb9aaf1"
      },
      "outputs": [
        {
          "data": {
            "text/plain": [
              "5.1222741603851315e-12"
            ]
          },
          "execution_count": 106,
          "metadata": {},
          "output_type": "execute_result"
        }
      ],
      "source": [
        "(df['income'] - df['income'].mean()).mean()"
      ]
    },
    {
      "cell_type": "code",
      "execution_count": null,
      "metadata": {
        "colab": {
          "base_uri": "https://localhost:8080/"
        },
        "id": "GglZmOeGceUr",
        "outputId": "76d69393-9fa6-42c0-a88f-d6ddd1b3e8db"
      },
      "outputs": [
        {
          "data": {
            "text/plain": [
              "[-2, 2]"
            ]
          },
          "execution_count": 107,
          "metadata": {},
          "output_type": "execute_result"
        }
      ],
      "source": [
        "[-2,2]"
      ]
    },
    {
      "cell_type": "code",
      "execution_count": null,
      "metadata": {
        "colab": {
          "base_uri": "https://localhost:8080/"
        },
        "id": "2U5g2iV1cge8",
        "outputId": "50c430c7-1043-4bbf-e553-208d0895a977"
      },
      "outputs": [
        {
          "data": {
            "text/plain": [
              "0.0"
            ]
          },
          "execution_count": 108,
          "metadata": {},
          "output_type": "execute_result"
        }
      ],
      "source": [
        "np.mean([-2,2])"
      ]
    },
    {
      "cell_type": "code",
      "execution_count": null,
      "metadata": {
        "colab": {
          "base_uri": "https://localhost:8080/"
        },
        "id": "CrpplbP6cG4J",
        "outputId": "7e015262-2b1f-4917-a573-6ba7bf5a9328"
      },
      "outputs": [
        {
          "data": {
            "text/plain": [
              "51910.29730549474"
            ]
          },
          "execution_count": 109,
          "metadata": {},
          "output_type": "execute_result"
        }
      ],
      "source": [
        "(df['income'] - df['income'].mean()).abs().mean()"
      ]
    },
    {
      "cell_type": "code",
      "execution_count": null,
      "metadata": {
        "colab": {
          "base_uri": "https://localhost:8080/"
        },
        "id": "Z3xotfbFccRZ",
        "outputId": "cae6afbd-d181-4faf-b8be-53452b0c01b9"
      },
      "outputs": [
        {
          "data": {
            "text/plain": [
              "count     1000.000\n",
              "mean    129415.746\n",
              "std      71251.621\n",
              "min      21943.855\n",
              "25%      79594.040\n",
              "50%     114586.571\n",
              "75%     162888.891\n",
              "max     678006.352\n",
              "Name: income, dtype: float64"
            ]
          },
          "execution_count": 110,
          "metadata": {},
          "output_type": "execute_result"
        }
      ],
      "source": [
        "df['income'].describe()"
      ]
    },
    {
      "cell_type": "code",
      "execution_count": null,
      "metadata": {
        "colab": {
          "base_uri": "https://localhost:8080/"
        },
        "id": "075dQaRQczRt",
        "outputId": "274f054a-54e1-4f33-ac35-a33ab1c22a18"
      },
      "outputs": [
        {
          "data": {
            "text/plain": [
              "71215.98624927517"
            ]
          },
          "execution_count": 112,
          "metadata": {},
          "output_type": "execute_result"
        }
      ],
      "source": [
        "np.sqrt(((df['income'] - df['income'].mean())**2).mean())"
      ]
    },
    {
      "cell_type": "code",
      "execution_count": null,
      "metadata": {
        "colab": {
          "base_uri": "https://localhost:8080/"
        },
        "id": "k--cLLopdBux",
        "outputId": "df6f14f1-cd9d-4397-eb9a-a1e2272f049c"
      },
      "outputs": [
        {
          "data": {
            "text/plain": [
              "71251.62097066913"
            ]
          },
          "execution_count": 113,
          "metadata": {},
          "output_type": "execute_result"
        }
      ],
      "source": [
        "np.sqrt(((df['income'] - df['income'].mean())**2).sum() / (len(df)-1))"
      ]
    },
    {
      "cell_type": "code",
      "execution_count": null,
      "metadata": {
        "colab": {
          "base_uri": "https://localhost:8080/"
        },
        "id": "RBzp7y_0eZhY",
        "outputId": "af977e8c-1ec6-4706-c8fd-2ec989ccd366"
      },
      "outputs": [
        {
          "data": {
            "text/plain": [
              "8"
            ]
          },
          "execution_count": 114,
          "metadata": {},
          "output_type": "execute_result"
        }
      ],
      "source": [
        "10 - 2"
      ]
    },
    {
      "cell_type": "code",
      "execution_count": null,
      "metadata": {
        "colab": {
          "base_uri": "https://localhost:8080/"
        },
        "id": "M-zoydpLeaQs",
        "outputId": "b4d20846-ac0e-4459-cb6f-c04ae7897d2a"
      },
      "outputs": [
        {
          "data": {
            "text/plain": [
              "96"
            ]
          },
          "execution_count": 115,
          "metadata": {},
          "output_type": "execute_result"
        }
      ],
      "source": [
        "100 - 4"
      ]
    },
    {
      "cell_type": "markdown",
      "metadata": {
        "id": "vdb8mcooi0oT"
      },
      "source": [
        "# Вместо std используй mad"
      ]
    },
    {
      "cell_type": "code",
      "execution_count": null,
      "metadata": {
        "colab": {
          "base_uri": "https://localhost:8080/"
        },
        "id": "vEl6du9Gdkyn",
        "outputId": "8e0bf6bd-fa59-4193-fb45-3c61d36b289b"
      },
      "outputs": [
        {
          "data": {
            "text/plain": [
              "51910.29730549474"
            ]
          },
          "execution_count": 116,
          "metadata": {},
          "output_type": "execute_result"
        }
      ],
      "source": [
        "(df['income'] - df['income'].mean()).abs().mean()"
      ]
    },
    {
      "cell_type": "code",
      "execution_count": null,
      "metadata": {
        "colab": {
          "base_uri": "https://localhost:8080/",
          "height": 283
        },
        "id": "2FlYqOtjd9nY",
        "outputId": "46a4e69d-0917-448a-d0c0-d5c25d5fd71d"
      },
      "outputs": [
        {
          "data": {
            "image/png": "[encoded data removed]",
            "text/plain": [
              "<Figure size 640x480 with 1 Axes>"
            ]
          },
          "metadata": {},
          "output_type": "display_data"
        }
      ],
      "source": [
        "df['income'].hist();"
      ]
    },
    {
      "cell_type": "code",
      "execution_count": null,
      "metadata": {
        "colab": {
          "base_uri": "https://localhost:8080/",
          "height": 111
        },
        "id": "8lvsmhDueCxk",
        "outputId": "4e128b31-1189-4f00-c1d9-b77c728bdbcd"
      },
      "outputs": [
        {
          "data": {
            "text/html": [
              "<div>\n",
              "<style scoped>\n",
              "    .dataframe tbody tr th:only-of-type {\n",
              "        vertical-align: middle;\n",
              "    }\n",
              "\n",
              "    .dataframe tbody tr th {\n",
              "        vertical-align: top;\n",
              "    }\n",
              "\n",
              "    .dataframe thead th {\n",
              "        text-align: right;\n",
              "    }\n",
              "</style>\n",
              "<table border=\"1\" class=\"dataframe\">\n",
              "  <thead>\n",
              "    <tr style=\"text-align: right;\">\n",
              "      <th></th>\n",
              "      <th>age</th>\n",
              "      <th>income</th>\n",
              "    </tr>\n",
              "  </thead>\n",
              "  <tbody>\n",
              "    <tr>\n",
              "      <th>age</th>\n",
              "      <td>1.000</td>\n",
              "      <td>-0.048</td>\n",
              "    </tr>\n",
              "    <tr>\n",
              "      <th>income</th>\n",
              "      <td>-0.048</td>\n",
              "      <td>1.000</td>\n",
              "    </tr>\n",
              "  </tbody>\n",
              "</table>\n",
              "</div>"
            ],
            "text/plain": [
              "          age  income\n",
              "age     1.000  -0.048\n",
              "income -0.048   1.000"
            ]
          },
          "execution_count": 119,
          "metadata": {},
          "output_type": "execute_result"
        }
      ],
      "source": [
        "df[['age','income']].corr()"
      ]
    },
    {
      "cell_type": "code",
      "execution_count": null,
      "metadata": {},
      "outputs": [],
      "source": [
        "df = df_copy.copy()"
      ]
    },
    {
      "cell_type": "code",
      "execution_count": null,
      "metadata": {
        "colab": {
          "base_uri": "https://localhost:8080/",
          "height": 392
        },
        "id": "Q8H4leE0hFsS",
        "outputId": "0d329f54-a07e-4de0-a6d2-c8a86b071fd6"
      },
      "outputs": [
        {
          "data": {
            "text/html": [
              "<div>\n",
              "<style scoped>\n",
              "    .dataframe tbody tr th:only-of-type {\n",
              "        vertical-align: middle;\n",
              "    }\n",
              "\n",
              "    .dataframe tbody tr th {\n",
              "        vertical-align: top;\n",
              "    }\n",
              "\n",
              "    .dataframe thead th {\n",
              "        text-align: right;\n",
              "    }\n",
              "</style>\n",
              "<table border=\"1\" class=\"dataframe\">\n",
              "  <thead>\n",
              "    <tr style=\"text-align: right;\">\n",
              "      <th></th>\n",
              "      <th>count</th>\n",
              "      <th>mean</th>\n",
              "      <th>median</th>\n",
              "    </tr>\n",
              "    <tr>\n",
              "      <th>age_bin</th>\n",
              "      <th></th>\n",
              "      <th></th>\n",
              "      <th></th>\n",
              "    </tr>\n",
              "  </thead>\n",
              "  <tbody>\n",
              "    <tr>\n",
              "      <th>(17.402, 22.107]</th>\n",
              "      <td>49</td>\n",
              "      <td>104319.382</td>\n",
              "      <td>88163.527</td>\n",
              "    </tr>\n",
              "    <tr>\n",
              "      <th>(22.107, 26.766]</th>\n",
              "      <td>124</td>\n",
              "      <td>133775.791</td>\n",
              "      <td>125960.906</td>\n",
              "    </tr>\n",
              "    <tr>\n",
              "      <th>(26.766, 31.425]</th>\n",
              "      <td>140</td>\n",
              "      <td>130575.739</td>\n",
              "      <td>114947.477</td>\n",
              "    </tr>\n",
              "    <tr>\n",
              "      <th>(31.425, 36.084]</th>\n",
              "      <td>134</td>\n",
              "      <td>135654.849</td>\n",
              "      <td>118368.874</td>\n",
              "    </tr>\n",
              "    <tr>\n",
              "      <th>(36.084, 40.743]</th>\n",
              "      <td>131</td>\n",
              "      <td>134457.082</td>\n",
              "      <td>128647.923</td>\n",
              "    </tr>\n",
              "    <tr>\n",
              "      <th>(40.743, 45.401]</th>\n",
              "      <td>141</td>\n",
              "      <td>139697.677</td>\n",
              "      <td>123441.921</td>\n",
              "    </tr>\n",
              "    <tr>\n",
              "      <th>(45.401, 50.06]</th>\n",
              "      <td>101</td>\n",
              "      <td>142814.623</td>\n",
              "      <td>122199.047</td>\n",
              "    </tr>\n",
              "    <tr>\n",
              "      <th>(50.06, 54.719]</th>\n",
              "      <td>121</td>\n",
              "      <td>112563.105</td>\n",
              "      <td>95443.104</td>\n",
              "    </tr>\n",
              "    <tr>\n",
              "      <th>(54.719, 59.378]</th>\n",
              "      <td>50</td>\n",
              "      <td>104040.538</td>\n",
              "      <td>91602.735</td>\n",
              "    </tr>\n",
              "    <tr>\n",
              "      <th>(59.378, 64.037]</th>\n",
              "      <td>9</td>\n",
              "      <td>77761.751</td>\n",
              "      <td>78167.926</td>\n",
              "    </tr>\n",
              "  </tbody>\n",
              "</table>\n",
              "</div>"
            ],
            "text/plain": [
              "                  count       mean     median\n",
              "age_bin                                      \n",
              "(17.402, 22.107]     49 104319.382  88163.527\n",
              "(22.107, 26.766]    124 133775.791 125960.906\n",
              "(26.766, 31.425]    140 130575.739 114947.477\n",
              "(31.425, 36.084]    134 135654.849 118368.874\n",
              "(36.084, 40.743]    131 134457.082 128647.923\n",
              "(40.743, 45.401]    141 139697.677 123441.921\n",
              "(45.401, 50.06]     101 142814.623 122199.047\n",
              "(50.06, 54.719]     121 112563.105  95443.104\n",
              "(54.719, 59.378]     50 104040.538  91602.735\n",
              "(59.378, 64.037]      9  77761.751  78167.926"
            ]
          },
          "execution_count": 122,
          "metadata": {},
          "output_type": "execute_result"
        }
      ],
      "source": [
        "df.groupby('age_bin')['income'].agg(['count','mean','median'])"
      ]
    },
    {
      "cell_type": "code",
      "execution_count": null,
      "metadata": {
        "colab": {
          "base_uri": "https://localhost:8080/",
          "height": 355
        },
        "id": "xBQorYLWhLVK",
        "outputId": "5b2b2431-611b-4b4b-cd1d-f81476bd4c56"
      },
      "outputs": [
        {
          "data": {
            "image/png": "[encoded data removed]",
            "text/plain": [
              "<Figure size 640x480 with 1 Axes>"
            ]
          },
          "metadata": {},
          "output_type": "display_data"
        }
      ],
      "source": [
        "df.groupby('age_bin')['income'].median().plot(rot=45,ylim=0);"
      ]
    },
    {
      "cell_type": "code",
      "execution_count": null,
      "metadata": {
        "colab": {
          "base_uri": "https://localhost:8080/",
          "height": 298
        },
        "id": "JwSfI5ArhO5m",
        "outputId": "fc306db7-1fcc-4da8-a059-2cfb3a310c25"
      },
      "outputs": [
        {
          "data": {
            "image/png": "[encoded data removed]",
            "text/plain": [
              "<Figure size 640x480 with 1 Axes>"
            ]
          },
          "metadata": {},
          "output_type": "display_data"
        }
      ],
      "source": [
        "df.plot(x='age',y='income',kind='scatter');"
      ]
    },
    {
      "cell_type": "code",
      "execution_count": null,
      "metadata": {
        "colab": {
          "base_uri": "https://localhost:8080/",
          "height": 267
        },
        "id": "L5Xu6BXCjst6",
        "outputId": "b57b9d8f-4712-400e-e075-d6558105cad8"
      },
      "outputs": [
        {
          "data": {
            "text/html": [
              "<div>\n",
              "<style scoped>\n",
              "    .dataframe tbody tr th:only-of-type {\n",
              "        vertical-align: middle;\n",
              "    }\n",
              "\n",
              "    .dataframe tbody tr th {\n",
              "        vertical-align: top;\n",
              "    }\n",
              "\n",
              "    .dataframe thead th {\n",
              "        text-align: right;\n",
              "    }\n",
              "</style>\n",
              "<table border=\"1\" class=\"dataframe\">\n",
              "  <thead>\n",
              "    <tr style=\"text-align: right;\">\n",
              "      <th></th>\n",
              "      <th>count</th>\n",
              "      <th>mean</th>\n",
              "      <th>median</th>\n",
              "    </tr>\n",
              "    <tr>\n",
              "      <th>number_of_children</th>\n",
              "      <th></th>\n",
              "      <th></th>\n",
              "      <th></th>\n",
              "    </tr>\n",
              "  </thead>\n",
              "  <tbody>\n",
              "    <tr>\n",
              "      <th>0</th>\n",
              "      <td>658</td>\n",
              "      <td>126715.542</td>\n",
              "      <td>110189.981</td>\n",
              "    </tr>\n",
              "    <tr>\n",
              "      <th>1</th>\n",
              "      <td>226</td>\n",
              "      <td>132978.451</td>\n",
              "      <td>124840.813</td>\n",
              "    </tr>\n",
              "    <tr>\n",
              "      <th>2</th>\n",
              "      <td>94</td>\n",
              "      <td>130142.467</td>\n",
              "      <td>113863.127</td>\n",
              "    </tr>\n",
              "    <tr>\n",
              "      <th>3</th>\n",
              "      <td>20</td>\n",
              "      <td>175810.993</td>\n",
              "      <td>112983.579</td>\n",
              "    </tr>\n",
              "    <tr>\n",
              "      <th>4</th>\n",
              "      <td>1</td>\n",
              "      <td>134556.798</td>\n",
              "      <td>134556.798</td>\n",
              "    </tr>\n",
              "    <tr>\n",
              "      <th>5</th>\n",
              "      <td>1</td>\n",
              "      <td>99621.445</td>\n",
              "      <td>99621.445</td>\n",
              "    </tr>\n",
              "  </tbody>\n",
              "</table>\n",
              "</div>"
            ],
            "text/plain": [
              "                    count       mean     median\n",
              "number_of_children                             \n",
              "0                     658 126715.542 110189.981\n",
              "1                     226 132978.451 124840.813\n",
              "2                      94 130142.467 113863.127\n",
              "3                      20 175810.993 112983.579\n",
              "4                       1 134556.798 134556.798\n",
              "5                       1  99621.445  99621.445"
            ]
          },
          "execution_count": 126,
          "metadata": {},
          "output_type": "execute_result"
        }
      ],
      "source": [
        "df.groupby('number_of_children')['income'].agg(['count','mean','median'])"
      ]
    },
    {
      "cell_type": "code",
      "execution_count": null,
      "metadata": {
        "colab": {
          "base_uri": "https://localhost:8080/",
          "height": 298
        },
        "id": "5i4cvkRCkEup",
        "outputId": "6cff7a55-0de8-4e2c-ab55-c5a66fb3d2ff"
      },
      "outputs": [
        {
          "data": {
            "image/png": "[encoded data removed]",
            "text/plain": [
              "<Figure size 640x480 with 1 Axes>"
            ]
          },
          "metadata": {},
          "output_type": "display_data"
        }
      ],
      "source": [
        "df.groupby('number_of_children')['income'].median().plot();"
      ]
    },
    {
      "cell_type": "code",
      "execution_count": null,
      "metadata": {
        "colab": {
          "base_uri": "https://localhost:8080/",
          "height": 111
        },
        "id": "vdBSIFxNkHvY",
        "outputId": "c604c30a-ff7b-435f-f3b3-acd08ef48639"
      },
      "outputs": [
        {
          "data": {
            "text/html": [
              "<div>\n",
              "<style scoped>\n",
              "    .dataframe tbody tr th:only-of-type {\n",
              "        vertical-align: middle;\n",
              "    }\n",
              "\n",
              "    .dataframe tbody tr th {\n",
              "        vertical-align: top;\n",
              "    }\n",
              "\n",
              "    .dataframe thead th {\n",
              "        text-align: right;\n",
              "    }\n",
              "</style>\n",
              "<table border=\"1\" class=\"dataframe\">\n",
              "  <thead>\n",
              "    <tr style=\"text-align: right;\">\n",
              "      <th></th>\n",
              "      <th>number_of_children</th>\n",
              "      <th>income</th>\n",
              "    </tr>\n",
              "  </thead>\n",
              "  <tbody>\n",
              "    <tr>\n",
              "      <th>number_of_children</th>\n",
              "      <td>1.000</td>\n",
              "      <td>0.066</td>\n",
              "    </tr>\n",
              "    <tr>\n",
              "      <th>income</th>\n",
              "      <td>0.066</td>\n",
              "      <td>1.000</td>\n",
              "    </tr>\n",
              "  </tbody>\n",
              "</table>\n",
              "</div>"
            ],
            "text/plain": [
              "                    number_of_children  income\n",
              "number_of_children               1.000   0.066\n",
              "income                           0.066   1.000"
            ]
          },
          "execution_count": 128,
          "metadata": {},
          "output_type": "execute_result"
        }
      ],
      "source": [
        "df[['number_of_children','income']].corr()"
      ]
    },
    {
      "cell_type": "code",
      "execution_count": null,
      "metadata": {
        "colab": {
          "base_uri": "https://localhost:8080/",
          "height": 299
        },
        "id": "RWy25_wgkbal",
        "outputId": "b9cfface-53e3-40b7-c8d5-0fe3d218f0a6"
      },
      "outputs": [
        {
          "data": {
            "image/png": "[encoded data removed]",
            "text/plain": [
              "<Figure size 640x480 with 1 Axes>"
            ]
          },
          "metadata": {},
          "output_type": "display_data"
        }
      ],
      "source": [
        "df.plot(x='number_of_children',y='income',kind='scatter',alpha=0.2);"
      ]
    },
    {
      "cell_type": "code",
      "execution_count": null,
      "metadata": {
        "colab": {
          "base_uri": "https://localhost:8080/",
          "height": 375
        },
        "id": "cDaCwHQukgzd",
        "outputId": "cdaf0764-d954-4d38-f998-513edf1863a9"
      },
      "outputs": [
        {
          "data": {
            "image/png": "[encoded data removed]",
            "text/plain": [
              "<Figure size 640x480 with 1 Axes>"
            ]
          },
          "metadata": {},
          "output_type": "display_data"
        }
      ],
      "source": [
        "df.boxplot('income',by='number_of_children');"
      ]
    },
    {
      "cell_type": "code",
      "execution_count": null,
      "metadata": {
        "id": "mq2ura6PkswO"
      },
      "outputs": [],
      "source": []
    }
  ],
  "metadata": {
    "colab": {
      "provenance": []
    },
    "kernelspec": {
      "display_name": ".venv",
      "language": "python",
      "name": "python3"
    },
    "language_info": {
      "codemirror_mode": {
        "name": "ipython",
        "version": 3
      },
      "file_extension": ".py",
      "mimetype": "text/x-python",
      "name": "python",
      "nbconvert_exporter": "python",
      "pygments_lexer": "ipython3",
      "version": "3.10.5"
    }
  },
  "nbformat": 4,
  "nbformat_minor": 0
}
